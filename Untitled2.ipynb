{
 "cells": [
  {
   "cell_type": "code",
   "execution_count": 5,
   "metadata": {},
   "outputs": [
    {
     "name": "stdout",
     "output_type": "stream",
     "text": [
      "Epoch 1/10\n",
      "14/14 [==============================] - 2s 121ms/step - loss: 0.7108 - accuracy: 0.5768 - val_loss: 0.5343 - val_accuracy: 0.7917\n",
      "Epoch 2/10\n",
      "14/14 [==============================] - 1s 107ms/step - loss: 0.4426 - accuracy: 0.8298 - val_loss: 0.4455 - val_accuracy: 0.8125\n",
      "Epoch 3/10\n",
      "14/14 [==============================] - 2s 108ms/step - loss: 0.3849 - accuracy: 0.8274 - val_loss: 0.4478 - val_accuracy: 0.8333\n",
      "Epoch 4/10\n",
      "14/14 [==============================] - 1s 107ms/step - loss: 0.2897 - accuracy: 0.8723 - val_loss: 0.4539 - val_accuracy: 0.8125\n",
      "Epoch 5/10\n",
      "14/14 [==============================] - 1s 106ms/step - loss: 0.2576 - accuracy: 0.8913 - val_loss: 0.4791 - val_accuracy: 0.8125\n",
      "Epoch 6/10\n",
      "14/14 [==============================] - 1s 106ms/step - loss: 0.2158 - accuracy: 0.9054 - val_loss: 0.5426 - val_accuracy: 0.8333\n",
      "Epoch 7/10\n",
      "14/14 [==============================] - 1s 106ms/step - loss: 0.2064 - accuracy: 0.9054 - val_loss: 0.4934 - val_accuracy: 0.8333\n",
      "Epoch 8/10\n",
      "14/14 [==============================] - 1s 107ms/step - loss: 0.1697 - accuracy: 0.9149 - val_loss: 0.5118 - val_accuracy: 0.8542\n",
      "Epoch 9/10\n",
      "14/14 [==============================] - 2s 112ms/step - loss: 0.1319 - accuracy: 0.9456 - val_loss: 0.5930 - val_accuracy: 0.8542\n",
      "Epoch 10/10\n",
      "14/14 [==============================] - 2s 117ms/step - loss: 0.1055 - accuracy: 0.9527 - val_loss: 0.5941 - val_accuracy: 0.7708\n"
     ]
    },
    {
     "data": {
      "text/plain": [
       "<tensorflow.python.keras.callbacks.History at 0x1f65466cd48>"
      ]
     },
     "execution_count": 5,
     "metadata": {},
     "output_type": "execute_result"
    }
   ],
   "source": [
    "import tensorflow as tf\n",
    "from tensorflow.keras.models import Sequential\n",
    "from tensorflow.keras.layers import Dense, Dropout, Activation, Flatten, Conv2D, MaxPooling2D\n",
    "import pickle\n",
    "import numpy as np\n",
    "\n",
    "X = pickle.load(open(\"X.pickle\", \"rb\"))\n",
    "y = pickle.load(open(\"y.pickle\", \"rb\"))\n",
    "\n",
    "X = np.array(X/255.0)\n",
    "y = np.array(y)\n",
    "\n",
    "model = Sequential()\n",
    "model.add(Conv2D(64, (3,3), input_shape = X.shape[1:]))\n",
    "model.add(Activation(\"relu\"))\n",
    "model.add(MaxPooling2D(pool_size=(2,2)))\n",
    "\n",
    "model.add(Conv2D(64, (3,3)))\n",
    "model.add(Activation(\"relu\"))\n",
    "model.add(MaxPooling2D(pool_size=(2,2)))\n",
    "\n",
    "model.add(Flatten())\n",
    "model.add(Dense(64))\n",
    "\n",
    "model.add(Dense(1))\n",
    "model.add(Activation('sigmoid'))\n",
    "\n",
    "model.compile(loss=\"binary_crossentropy\",\n",
    "             optimizer=\"adam\",\n",
    "             metrics=['accuracy'])\n",
    "\n",
    "model.fit(X, y, batch_size=32, epochs=10, validation_split=0.1)\n"
   ]
  },
  {
   "cell_type": "code",
   "execution_count": 6,
   "metadata": {},
   "outputs": [],
   "source": [
    "model.save('my_model_no1.h5') "
   ]
  },
  {
   "cell_type": "code",
   "execution_count": null,
   "metadata": {},
   "outputs": [],
   "source": []
  }
 ],
 "metadata": {
  "kernelspec": {
   "display_name": "Python 3",
   "language": "python",
   "name": "python3"
  },
  "language_info": {
   "codemirror_mode": {
    "name": "ipython",
    "version": 3
   },
   "file_extension": ".py",
   "mimetype": "text/x-python",
   "name": "python",
   "nbconvert_exporter": "python",
   "pygments_lexer": "ipython3",
   "version": "3.7.4"
  }
 },
 "nbformat": 4,
 "nbformat_minor": 2
}
