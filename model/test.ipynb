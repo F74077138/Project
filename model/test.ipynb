{
 "cells": [
  {
   "cell_type": "code",
   "execution_count": 2,
   "metadata": {},
   "outputs": [
    {
     "name": "stdout",
     "output_type": "stream",
     "text": [
      "Predict =  Boletus_edulis\n"
     ]
    }
   ],
   "source": [
    "import tensorflow as tf # version = 2.3.0 !!\n",
    "from tensorflow.keras.datasets import mnist\n",
    "import random\n",
    "import matplotlib.pyplot as plt\n",
    "import numpy as np\n",
    "\n",
    "import os\n",
    "import matplotlib.image as mpimg\n",
    "import fnmatch\n",
    "from PIL import Image\n",
    "import PIL\n",
    "import random\n",
    "\n",
    "class_names = [\"Cantharellus_cibarius\",\n",
    "\"Amanita_pantherina\",\n",
    "\"Amanita_virosa\",\n",
    "\"Coprinus_comatus\",\n",
    "\"Galerina_marginata\",\n",
    "\"Rubroboletus_satanas\",\n",
    "\"Amanita_muscaria\",\n",
    "\"Armillaria_mellea\",\n",
    "\"Boletus_edulis\",\n",
    "\"Lactarius\",\n",
    "]\n",
    "\n",
    "model = tf.keras.models.load_model(\"C:/Users/Dell/Documents/python/10_grib/mushrooms_v10.cpt\")\n",
    "\n",
    "test_file = 'test.jpg'\n",
    "image_size = 128\n",
    "img = Image.open(test_file)\n",
    "width, height = img.size\n",
    "img = img.crop((0, 0, min(width, height), min(width, height))) \n",
    "img = img.resize((image_size, image_size))\n",
    "img.save('new_test.jpg')\n",
    "test_img = mpimg.imread('new_test.jpg') / 255.0\n",
    "\n",
    "inp = test_img.reshape((1, image_size, image_size, 3))\n",
    "res = model.predict(inp)\n",
    "print('Predict = ', class_names[int(np.argmax(res, axis=1))])"
   ]
  },
  {
   "cell_type": "code",
   "execution_count": null,
   "metadata": {},
   "outputs": [],
   "source": []
  },
  {
   "cell_type": "code",
   "execution_count": null,
   "metadata": {},
   "outputs": [],
   "source": []
  }
 ],
 "metadata": {
  "kernelspec": {
   "display_name": "Python 3",
   "language": "python",
   "name": "python3"
  },
  "language_info": {
   "codemirror_mode": {
    "name": "ipython",
    "version": 3
   },
   "file_extension": ".py",
   "mimetype": "text/x-python",
   "name": "python",
   "nbconvert_exporter": "python",
   "pygments_lexer": "ipython3",
   "version": "3.7.4"
  }
 },
 "nbformat": 4,
 "nbformat_minor": 2
}
